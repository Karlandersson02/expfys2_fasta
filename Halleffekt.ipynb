{
 "cells": [
  {
   "cell_type": "code",
   "execution_count": 1,
   "metadata": {},
   "outputs": [],
   "source": [
    "import numpy as np"
   ]
  },
  {
   "cell_type": "code",
   "execution_count": 5,
   "metadata": {},
   "outputs": [
    {
     "name": "stdout",
     "output_type": "stream",
     "text": [
      "[-0.01755065  0.01342485  0.01042748  0.01210078 -0.00868395]\n",
      "[3.55667548e+20 4.64973446e+20 5.98629307e+20 5.15850722e+20\n",
      " 7.18820225e+20]\n",
      "[-3.01114122e-04 -3.02166969e-04 -2.59605400e-04 -8.64341588e-05\n",
      " -6.51296079e-04]\n",
      "[ 6.20866044e+18 -1.02352645e+19 -1.45416026e+19 -3.65851576e+18\n",
      "  5.82827209e+19]\n"
     ]
    }
   ],
   "source": [
    "V_H = np.array([-40.8, 31.1, 24.1, 28.0, -20.0])\n",
    "V_0 = np.array([-0.7, -0.7, -0.6, -0.2, -1.5])\n",
    "I = np.array([8.61, 8.58, 8.56, 8.57, 8.53])\n",
    "B = 0.135\n",
    "a = 0.5*10**(-3)\n",
    "q = 1.602*10**(-19)\n",
    "\n",
    "R_H = V_H*a/(I*B)\n",
    "R_H2 = (V_H-V_0)*a/(I*B)\n",
    "n = 1/np.abs(R_H*q)\n",
    "n2 = 1/np.abs(R_H2*q)\n",
    "\n",
    "print(R_H)\n",
    "print(n)\n",
    "print(R_H-R_H2)\n",
    "print(n2-n)"
   ]
  },
  {
   "cell_type": "code",
   "execution_count": null,
   "metadata": {},
   "outputs": [],
   "source": []
  }
 ],
 "metadata": {
  "kernelspec": {
   "display_name": "Python 3",
   "language": "python",
   "name": "python3"
  },
  "language_info": {
   "codemirror_mode": {
    "name": "ipython",
    "version": 3
   },
   "file_extension": ".py",
   "mimetype": "text/x-python",
   "name": "python",
   "nbconvert_exporter": "python",
   "pygments_lexer": "ipython3",
   "version": "3.11.9"
  }
 },
 "nbformat": 4,
 "nbformat_minor": 2
}
