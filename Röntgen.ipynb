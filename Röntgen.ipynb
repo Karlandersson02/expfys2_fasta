{
 "cells": [
  {
   "cell_type": "code",
   "execution_count": 1,
   "metadata": {},
   "outputs": [],
   "source": [
    "import numpy as np"
   ]
  },
  {
   "cell_type": "code",
   "execution_count": 20,
   "metadata": {},
   "outputs": [
    {
     "name": "stdout",
     "output_type": "stream",
     "text": [
      "[0.04595882 0.04604012 0.04583045 0.04465771 0.04487754]\n"
     ]
    }
   ],
   "source": [
    "r = (np.array([0.99, 4.34, 5.06, 7.42, 2*4.43, 2*4.70])/2)[1:]\n",
    "R = 8.96/np.pi\n",
    "theta = r/(2*R)\n",
    "\n",
    "def bragg(theta, hkl):\n",
    "    d_hkl = 1/np.sqrt(hkl)\n",
    "    return np.sin(theta)**2*d_hkl**2\n",
    "\n",
    "SC = np.array([1, 2, 3, 4, 5, 6])[:-1]\n",
    "FCC = np.array([3, 4, 8, 11, 12, 16])[:-1]\n",
    "BCC = np.array([2, 4, 6, 8, 10, 12])[:-1]\n",
    "\n",
    "print(bragg(theta, FCC))"
   ]
  },
  {
   "cell_type": "code",
   "execution_count": 24,
   "metadata": {},
   "outputs": [
    {
     "name": "stdout",
     "output_type": "stream",
     "text": [
      "a: 3.62e-10\n"
     ]
    }
   ],
   "source": [
    "def a(theta, hkl, lam):\n",
    "    d_hkl = 1/np.sqrt(hkl)\n",
    "    return sum(lam/(2*d_hkl*np.sin(theta)))/len(theta)\n",
    "\n",
    "lam = 1.541837e-10\n",
    "print(f'a: {a(theta, FCC, lam=lam):.3g}')"
   ]
  }
 ],
 "metadata": {
  "kernelspec": {
   "display_name": "Python 3",
   "language": "python",
   "name": "python3"
  },
  "language_info": {
   "codemirror_mode": {
    "name": "ipython",
    "version": 3
   },
   "file_extension": ".py",
   "mimetype": "text/x-python",
   "name": "python",
   "nbconvert_exporter": "python",
   "pygments_lexer": "ipython3",
   "version": "3.10.11"
  }
 },
 "nbformat": 4,
 "nbformat_minor": 2
}
