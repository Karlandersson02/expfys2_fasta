{
 "cells": [
  {
   "cell_type": "code",
   "execution_count": 9,
   "metadata": {},
   "outputs": [],
   "source": [
    "import numpy as np"
   ]
  },
  {
   "cell_type": "code",
   "execution_count": 13,
   "metadata": {},
   "outputs": [
    {
     "name": "stdout",
     "output_type": "stream",
     "text": [
      "theta: [0.38042724 0.44353959 0.65040785 0.77663256 0.82396682]\n",
      "SC?  [0.13787646 0.09208024 0.12221454 0.12280871 0.10770608]\n",
      "BCC? [0.06893823 0.04604012 0.06110727 0.06140436 0.05385304]\n",
      "FCC! [0.04595882 0.04604012 0.04583045 0.04465771 0.04487754]\n",
      "DC?  [0.04595882 0.02302006 0.03333124 0.03070218 0.02834371]\n"
     ]
    }
   ],
   "source": [
    "r = np.array([4.34, 5.06, 7.42, 2*4.43, 2*4.70])/2\n",
    "R = 8.96/np.pi\n",
    "theta = r/(2*R)\n",
    "print(f'theta: {theta}')\n",
    "\n",
    "def bragg(theta, hkl):\n",
    "    d_hkl = 1/np.sqrt(hkl)\n",
    "    return np.sin(theta)**2*d_hkl**2\n",
    "\n",
    "SC = np.array([1, 2, 3, 4, 5])\n",
    "FCC = np.array([3, 4, 8, 11, 12])\n",
    "BCC = np.array([2, 4, 6, 8, 10])\n",
    "DC = np.array([3, 8, 11, 16, 19])\n",
    "\n",
    "\n",
    "print('SC? ', bragg(theta, SC))\n",
    "print('BCC?', bragg(theta, BCC))\n",
    "print('FCC!', bragg(theta, FCC))\n",
    "print('DC? ',bragg(theta, DC))"
   ]
  },
  {
   "cell_type": "code",
   "execution_count": 21,
   "metadata": {},
   "outputs": [
    {
     "name": "stdout",
     "output_type": "stream",
     "text": [
      "a: 3.6142e-10\n",
      "fel: 2.52e-12\n"
     ]
    }
   ],
   "source": [
    "def a(theta, hkl, lam):\n",
    "    d_hkl = 1/np.sqrt(hkl)\n",
    "    return np.mean(lam/(2*d_hkl*np.sin(theta)))\n",
    "\n",
    "def fel_a(theta, hkl, lam):\n",
    "    d_hkl = 1/np.sqrt(hkl)\n",
    "    a_hkl = lam/(2*d_hkl*np.sin(theta))\n",
    "    a = np.mean(a_hkl)\n",
    "    dev = np.sum(np.sqrt((a_hkl-a)**2/(len(a_hkl)-1)))\n",
    "    err = dev/np.sqrt(len(a_hkl))\n",
    "    return err\n",
    "\n",
    "\n",
    "#lam = 1.541837e-10\n",
    "lam = 1.541333e-10\n",
    "print(f'a: {a(theta, FCC, lam=lam):.5g}')\n",
    "print(f'fel: {fel_a(theta, FCC, lam=lam):.3g}')"
   ]
  }
 ],
 "metadata": {
  "kernelspec": {
   "display_name": "Python 3",
   "language": "python",
   "name": "python3"
  },
  "language_info": {
   "codemirror_mode": {
    "name": "ipython",
    "version": 3
   },
   "file_extension": ".py",
   "mimetype": "text/x-python",
   "name": "python",
   "nbconvert_exporter": "python",
   "pygments_lexer": "ipython3",
   "version": "3.11.9"
  }
 },
 "nbformat": 4,
 "nbformat_minor": 2
}
